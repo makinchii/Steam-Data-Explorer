{
 "cells": [
  {
   "cell_type": "markdown",
   "id": "fdf50bbf-c6e2-4aea-90e4-9184e3cd3524",
   "metadata": {},
   "source": [
    "### Getting Steam App IDs and Information\n",
    "\n",
    "This notebook is dedicated towards collecting a list of all available games on Steam. It uses a public API provided by SteamWorks and sends a GET request, which returns a list of all steam games by ID. It will also download information about games using their app ID and another API. First, import the necessary packages for this code. Running this notebook will begin to download information about all games on Steam to your computer in the same directory. They will be serialized into a pickle object for storage."
   ]
  },
  {
   "cell_type": "code",
   "id": "917ac01d-9660-4c78-83d0-56b3126e1b8c",
   "metadata": {
    "ExecuteTime": {
     "end_time": "2025-05-16T14:06:26.188126Z",
     "start_time": "2025-05-16T14:06:26.022182Z"
    }
   },
   "source": [
    "from collections import deque\n",
    "from datetime import datetime\n",
    "import os\n",
    "import time\n",
    "import requests\n",
    "import json\n",
    "\n",
    "import pickle\n",
    "from pathlib import Path\n",
    "\n",
    "import traceback"
   ],
   "outputs": [],
   "execution_count": 1
  },
  {
   "cell_type": "markdown",
   "id": "266f4706-27eb-4e0f-83d5-eb163329fe4b",
   "metadata": {},
   "source": [
    "Next, several methods are defined to process and retrieve the data. The following method retrieves data from Steam's database, returning a list of all games and the associated app ID."
   ]
  },
  {
   "cell_type": "code",
   "id": "6ed2becc-7469-4624-ba70-6a964797f97b",
   "metadata": {
    "ExecuteTime": {
     "end_time": "2025-05-16T14:06:26.194748Z",
     "start_time": "2025-05-16T14:06:26.191266Z"
    }
   },
   "source": [
    "def get_app_ids():\n",
    "    \n",
    "    req = requests.get(\"https://api.steampowered.com/ISteamApps/GetAppList/v2/\")\n",
    "\n",
    "    if (req.status_code != 200):\n",
    "        print_log(\"Failed to get all games on steam.\")\n",
    "        return\n",
    "    \n",
    "    try:\n",
    "        data = req.json()\n",
    "    except Exception as e:\n",
    "        traceback.print_exc(limit=5)\n",
    "        return {}\n",
    "    \n",
    "    apps_data = data['applist']['apps']\n",
    "\n",
    "    apps_ids = []\n",
    "\n",
    "    for app in apps_data:\n",
    "        appid = app['appid']\n",
    "        name = app['name']\n",
    "        \n",
    "        # skip apps that have empty name\n",
    "        if not name:\n",
    "            continue\n",
    "\n",
    "        apps_ids.append(appid)\n",
    "\n",
    "    return apps_ids"
   ],
   "outputs": [],
   "execution_count": 2
  },
  {
   "cell_type": "markdown",
   "id": "018fb7b7-b28b-45b8-b912-b5afef07288b",
   "metadata": {},
   "source": [
    "Using these app IDs, we can start requesting detailed information about each game on Steam. Unfortunately, there is a limit of about 200 requests per minutes, and with over 200,000 games on steam, it would take about 3 or 4 days to download all the possible data. In order to avoid having to restart from the beginning or downloading repeat data should the program be closed suddenly, safeguards have been added to provide a checkpoint for data download. This notebook may need to be periodically checked and restarted from time to time to properly download all data."
   ]
  },
  {
   "cell_type": "code",
   "id": "bcd5d977-ab82-4258-9de2-4f5872fb9476",
   "metadata": {
    "ExecuteTime": {
     "end_time": "2025-05-16T14:06:26.392696Z",
     "start_time": "2025-05-16T14:06:26.388089Z"
    }
   },
   "source": [
    "def print_log(*args):\n",
    "    print(f\"[{str(datetime.now())[:-3]}] \", end=\"\")\n",
    "    print(*args)\n",
    "\n",
    "def save_checkpoints(checkpoint_folder, apps_dict_filename_prefix, exc_apps_filename_prefix, error_apps_filename_prefix, apps_dict, excluded_apps_list, error_apps_list):\n",
    "    if not checkpoint_folder.exists():\n",
    "        checkpoint_folder.mkdir(parents=True)\n",
    "\n",
    "    save_path = checkpoint_folder.joinpath(\n",
    "        apps_dict_filename_prefix + f'-ckpt-fin.p'\n",
    "    ).resolve()\n",
    "\n",
    "    save_path2 = checkpoint_folder.joinpath(\n",
    "        exc_apps_filename_prefix + f'-ckpt-fin.p'\n",
    "    ).resolve()\n",
    "    \n",
    "    save_path3 = checkpoint_folder.joinpath(\n",
    "        error_apps_filename_prefix + f'-ckpt-fin.p'\n",
    "    ).resolve()\n",
    "\n",
    "    save_pickle(save_path, apps_dict)\n",
    "    print_log(f'Successfully create app_dict checkpoint: {save_path}')\n",
    "\n",
    "    save_pickle(save_path2, excluded_apps_list)\n",
    "    print_log(f\"Successfully create excluded apps checkpoint: {save_path2}\")\n",
    "\n",
    "    save_pickle(save_path3, error_apps_list)\n",
    "    print_log(f\"Successfully create error apps checkpoint: {save_path3}\")\n",
    "\n",
    "    print()\n",
    "\n",
    "\n",
    "def load_pickle(path_to_load:Path) -> dict:\n",
    "    obj = pickle.load(open(path_to_load, \"rb\"))\n",
    "    \n",
    "    return obj\n",
    "\n",
    "def save_pickle(path_to_save:Path, obj):\n",
    "    with open(path_to_save, 'wb') as handle:\n",
    "        pickle.dump(obj, handle, protocol=pickle.HIGHEST_PROTOCOL)\n",
    "\n",
    "def check_latest_checkpoints(checkpoint_folder, apps_dict_filename_prefix, exc_apps_filename_prefix, error_apps_filename_prefix):\n",
    "    # app_dict\n",
    "    all_pkl = []\n",
    "\n",
    "    # get all pickle files in the checkpoint folder    \n",
    "    for root, dirs, files in os.walk(checkpoint_folder):\n",
    "        all_pkl = list(map(lambda f: Path(root, f), files))\n",
    "        all_pkl = [p for p in all_pkl if p.suffix == '.p']\n",
    "        break\n",
    "            \n",
    "    # create a list to store all the checkpoint files\n",
    "    # then sort them\n",
    "    # the latest checkpoint file for each of the object is the last element in each of the lists\n",
    "    apps_dict_ckpt_files = [f for f in all_pkl if apps_dict_filename_prefix in f.name and \"ckpt\" in f.name]\n",
    "    exc_apps_list_ckpt_files = [f for f in all_pkl if exc_apps_filename_prefix in f.name and \"ckpt\" in f.name]\n",
    "    error_apps_ckpt_files = [f for f in all_pkl if error_apps_filename_prefix in f.name and 'ckpt' in f.name]\n",
    "\n",
    "    apps_dict_ckpt_files.sort()\n",
    "    exc_apps_list_ckpt_files.sort()\n",
    "    error_apps_ckpt_files.sort()\n",
    "\n",
    "    latest_apps_dict_ckpt_path = apps_dict_ckpt_files[-1] if apps_dict_ckpt_files else None\n",
    "    latest_exc_apps_list_ckpt_path = exc_apps_list_ckpt_files[-1] if exc_apps_list_ckpt_files else None\n",
    "    latest_error_apps_list_ckpt_path = error_apps_ckpt_files[-1] if error_apps_ckpt_files else None\n",
    "\n",
    "    return latest_apps_dict_ckpt_path, latest_exc_apps_list_ckpt_path, latest_error_apps_list_ckpt_path"
   ],
   "outputs": [],
   "execution_count": 3
  },
  {
   "cell_type": "markdown",
   "id": "23597a40-c061-4320-ac44-10d87d42d213",
   "metadata": {},
   "source": [
    "Finally, we can write a function that retrieves all of the IDs, the information associated with each game, and stores them in a readable format that we can use to scrape information from."
   ]
  },
  {
   "cell_type": "code",
   "id": "73cfde94-1036-45f1-b28a-8b129ef3fa2e",
   "metadata": {
    "jupyter": {
     "is_executing": true
    },
    "ExecuteTime": {
     "start_time": "2025-05-16T14:06:26.401095Z"
    }
   },
   "source": [
    "def main():\n",
    "    print_log(\"Started Steam scraper process\", os.getpid())\n",
    "\n",
    "\n",
    "    apps_dict_filename_prefix = 'apps_dict'\n",
    "    exc_apps_filename_prefix = 'excluded_apps_list'\n",
    "    error_apps_filename_prefix = 'error_apps_list'\n",
    "\n",
    "    apps_dict = {}\n",
    "    excluded_apps_list = []\n",
    "    error_apps_list = []\n",
    "\n",
    "    all_app_ids = get_app_ids()\n",
    "\n",
    "    print_log('Total number of apps on steam:', len(all_app_ids))\n",
    "\n",
    "    # path = project directory (i.e. steam_data_scraping)/checkpoints\n",
    "    checkpoint_folder = Path('checkpoints').resolve()\n",
    "\n",
    "    print_log('Checkpoint folder:', checkpoint_folder)\n",
    "\n",
    "    if not checkpoint_folder.exists():\n",
    "        print_log(f'Fail to find checkpoint folder: {checkpoint_folder}')\n",
    "        print_log(f'Start at blank.')\n",
    "\n",
    "        checkpoint_folder.mkdir(parents=True)\n",
    "\n",
    "    latest_apps_dict_ckpt_path, latest_exc_apps_list_ckpt_path, latest_error_apps_list_ckpt_path = check_latest_checkpoints(checkpoint_folder, apps_dict_filename_prefix, exc_apps_filename_prefix, error_apps_filename_prefix)\n",
    "\n",
    "    if latest_apps_dict_ckpt_path:\n",
    "        apps_dict = load_pickle(latest_apps_dict_ckpt_path)\n",
    "        print_log('Successfully load apps_dict checkpoint:', latest_apps_dict_ckpt_path)\n",
    "        print_log(f'Number of apps in apps_dict: {len(apps_dict)}')\n",
    "    \n",
    "    if latest_exc_apps_list_ckpt_path:\n",
    "        excluded_apps_list = load_pickle(latest_exc_apps_list_ckpt_path)\n",
    "        print_log(\"Successfully load excluded_apps_list checkpoint:\", latest_exc_apps_list_ckpt_path)\n",
    "        print_log(f'Number of apps in excluded_apps_list: {len(excluded_apps_list)}')\n",
    "\n",
    "    if latest_error_apps_list_ckpt_path:\n",
    "        error_apps_list = load_pickle(latest_error_apps_list_ckpt_path)\n",
    "        print_log(\"Successfully load error_apps_list checkpoint:\", latest_error_apps_list_ckpt_path)\n",
    "        print_log(f'Number of apps in error_apps_list: {len(error_apps_list)}')\n",
    "\n",
    "    # remove app_ids that already scrapped or excluded or error\n",
    "    all_app_ids = set(all_app_ids) \\\n",
    "            - set(map(int, set(apps_dict.keys()))) \\\n",
    "            - set(map(int, excluded_apps_list)) \\\n",
    "            - set(map(int, error_apps_list))\n",
    "        \n",
    "    # first get remaining apps\n",
    "    apps_remaining_deque = deque(set(all_app_ids))\n",
    "\n",
    "    \n",
    "    print('Number of remaining apps:', len(apps_remaining_deque))\n",
    "\n",
    "    i = 0\n",
    "    while len(apps_remaining_deque) > 0:\n",
    "        appid = apps_remaining_deque.popleft()\n",
    "\n",
    "        # test whether the game exists or not\n",
    "        # by making request to get the details of the app\n",
    "        try:\n",
    "            appdetails_req = requests.get(f\"https://store.steampowered.com/api/appdetails?appids={appid}\")\n",
    "\n",
    "            if appdetails_req.status_code == 200:\n",
    "                appdetails = appdetails_req.json()\n",
    "                appdetails = appdetails[str(appid)]\n",
    "\n",
    "            elif appdetails_req.status_code == 429:\n",
    "                print_log(f'Too many requests. Put App ID {appid} back to deque. Sleep for 10 sec')\n",
    "                apps_remaining_deque.appendleft(appid)\n",
    "                time.sleep(10)\n",
    "                continue\n",
    "\n",
    "\n",
    "            elif appdetails_req.status_code == 403:\n",
    "                print_log(f'Forbidden to access. Put App ID {appid} back to deque. Sleep for 5 min.')\n",
    "                apps_remaining_deque.appendleft(appid)\n",
    "                time.sleep(5 * 60)\n",
    "                continue\n",
    "\n",
    "            else:\n",
    "                print_log(\"ERROR: status code:\", appdetails_req.status_code)\n",
    "                print_log(f\"Error in App Id: {appid}. Put the app to error apps list.\")\n",
    "                error_apps_list.append(appid)\n",
    "                continue\n",
    "                \n",
    "        except:\n",
    "            print_log(f\"Error in decoding app details request. App id: {appid}\")\n",
    "\n",
    "            traceback.print_exc(limit=5)\n",
    "            appdetails = {'success':False}\n",
    "            print()\n",
    "\n",
    "        # not success -> the game does not exist anymore\n",
    "        # add the app id to excluded app id list\n",
    "        if appdetails['success'] == False:\n",
    "            excluded_apps_list.append(appid)\n",
    "            print_log(f'No successful response. Add App ID: {appid} to excluded apps list')\n",
    "            continue\n",
    "\n",
    "        appdetails_data = appdetails['data']\n",
    "\n",
    "        appdetails_data['appid'] = appid     \n",
    "\n",
    "        apps_dict[appid] = appdetails_data\n",
    "        print_log(f\"Successfully get content of App ID: {appid}\")\n",
    "\n",
    "        i += 1\n",
    "        # for each 500, save a ckpt\n",
    "        if i >= 500:\n",
    "            save_checkpoints(checkpoint_folder, apps_dict_filename_prefix, exc_apps_filename_prefix, error_apps_filename_prefix, apps_dict, excluded_apps_list, error_apps_list)\n",
    "            i = 0\n",
    "\n",
    "    # save checkpoints at the end\n",
    "    save_checkpoints(checkpoint_folder, apps_dict_filename_prefix, exc_apps_filename_prefix, error_apps_filename_prefix, apps_dict, excluded_apps_list, error_apps_list)\n",
    "\n",
    "    print_log(f\"Total number of valid apps: {len(apps_dict)}\")\n",
    "    print_log(f\"Total number of skipped apps: {len(excluded_apps_list)}\")\n",
    "    print_log(f\"Total number of error apps: {len(error_apps_list)}\")\n",
    "\n",
    "    print_log('Successful run. Program Terminates.')\n",
    "\n",
    "if __name__ == '__main__':\n",
    "    main()"
   ],
   "outputs": [
    {
     "name": "stdout",
     "output_type": "stream",
     "text": [
      "[2025-05-16 07:06:26.405] Started Steam scraper process 4768\n",
      "[2025-05-16 07:06:27.116] Total number of apps on steam: 247295\n",
      "[2025-05-16 07:06:27.117] Checkpoint folder: C:\\Users\\azure\\Documents\\CS122\\project\\notebooks\\checkpoints\n",
      "Number of remaining apps: 201850\n",
      "[2025-05-16 07:06:27.316] Too many requests. Put App ID 2621440 back to deque. Sleep for 10 sec\n",
      "[2025-05-16 07:06:37.491] Too many requests. Put App ID 2621440 back to deque. Sleep for 10 sec\n"
     ]
    }
   ],
   "execution_count": null
  },
  {
   "cell_type": "code",
   "execution_count": null,
   "id": "f25e331a-c76c-4a47-972e-331d462eb015",
   "metadata": {
    "ExecuteTime": {
     "end_time": "2025-05-16T14:06:18.028009400Z",
     "start_time": "2025-05-10T03:09:59.300260Z"
    }
   },
   "outputs": [],
   "source": [
    "main()"
   ]
  }
 ],
 "metadata": {
  "kernelspec": {
   "display_name": "Python 3 (ipykernel)",
   "language": "python",
   "name": "python3"
  },
  "language_info": {
   "codemirror_mode": {
    "name": "ipython",
    "version": 3
   },
   "file_extension": ".py",
   "mimetype": "text/x-python",
   "name": "python",
   "nbconvert_exporter": "python",
   "pygments_lexer": "ipython3",
   "version": "3.10.16"
  }
 },
 "nbformat": 4,
 "nbformat_minor": 5
}
